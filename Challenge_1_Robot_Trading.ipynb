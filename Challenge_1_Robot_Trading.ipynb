{
  "nbformat": 4,
  "nbformat_minor": 0,
  "metadata": {
    "colab": {
      "provenance": []
    },
    "kernelspec": {
      "name": "python3",
      "display_name": "Python 3"
    },
    "language_info": {
      "name": "python"
    }
  },
  "cells": [
    {
      "cell_type": "code",
      "source": [
        "# Importacion de Librerias necesarias\n",
        "import pandas as pd\n",
        "import numpy as np\n",
        "import matplotlib.pyplot as plt\n",
        "import yfinance as yf               # Libreria Financiera\n",
        "from bs4 import BeautifulSoup       # Libreria Web Scraping\n",
        "import requests                     # Libreria para hacer llamados a la página web que queremos extraer\n",
        "import matplotlib.pyplot as plt     # Libreria para hacer el grafico boxplot\n",
        "import seaborn as sns"
      ],
      "metadata": {
        "id": "uwhYQnXkHNN1"
      },
      "execution_count": 2,
      "outputs": []
    },
    {
      "cell_type": "code",
      "execution_count": null,
      "metadata": {
        "id": "3oPSAE7vGgA7"
      },
      "outputs": [],
      "source": [
        "# Variables Globales\n",
        "global df_bitcoin, precio_actual, tendencia, media_bitcoin,  algoritmo_decision"
      ]
    },
    {
      "cell_type": "code",
      "source": [
        "# URL para extraer informacion (webscraping)\n",
        "url = \"https://coinmarketcap.com/\"\n",
        "url_historico = \"https://coinmarketcap.com/currencies/bitcoin/historical-data/\"\n",
        "\n",
        "# Definir el User-Agent\n",
        "headers = {'User-Agent': 'Mozilla/5.0 (Windows NT 10.0; Win64; x64) AppleWebKit/537.36 (KHTML, like Gecko) Chrome/113.0.0.0 Safari/537.36'} \n"
      ],
      "metadata": {
        "id": "VhMsBcSnKi-j"
      },
      "execution_count": 3,
      "outputs": []
    },
    {
      "cell_type": "code",
      "source": [
        "# Crear la peticion\n",
        "respuesta = requests.get(url, headers=headers)\n",
        "contenido = respuesta.text\n"
      ],
      "metadata": {
        "id": "HfjS-Kka24zA"
      },
      "execution_count": 4,
      "outputs": []
    },
    {
      "cell_type": "code",
      "source": [
        "# Obtener la tabla con la informacion\n",
        "tablas = pd.read_html(respuesta.content, encoding = 'utf8')\n",
        "print(f'Total tablas encontradas: {len(tablas)}')\n",
        "print(tablas)"
      ],
      "metadata": {
        "colab": {
          "base_uri": "https://localhost:8080/"
        },
        "id": "zkeeM-TK9RDy",
        "outputId": "d5f966be-4209-4ee4-b79c-1489f62f5b0e"
      },
      "execution_count": 5,
      "outputs": [
        {
          "output_type": "stream",
          "name": "stdout",
          "text": [
            "Total tablas encontradas: 1\n",
            "[    Unnamed: 0    #                      Name       Price   1h %  24h %  \\\n",
            "0          NaN  1.0               Bitcoin1BTC  $26,884.68  0.16%  0.18%   \n",
            "1          NaN  2.0              Ethereum2ETH   $1,816.88  0.08%  0.20%   \n",
            "2          NaN  3.0               Tether3USDT       $1.00  0.00%  0.04%   \n",
            "3          NaN  4.0                   BNB4BNB     $309.83  0.04%  0.07%   \n",
            "4          NaN  5.0             USD Coin5USDC     $0.9999  0.00%  0.01%   \n",
            "..         ...  ...                       ...         ...    ...    ...   \n",
            "95         NaN  NaN             THORChainRUNE       $1.11    NaN    NaN   \n",
            "96         NaN  NaN         Convex FinanceCVX       $4.54    NaN    NaN   \n",
            "97         NaN  NaN          Mask NetworkMASK       $4.33    NaN    NaN   \n",
            "98         NaN  NaN             Enjin CoinENJ       $0.34    NaN    NaN   \n",
            "99         NaN  NaN  Basic Attention TokenBAT       $0.22    NaN    NaN   \n",
            "\n",
            "     7d %                Market Cap                         Volume(24h)  \\\n",
            "0   1.93%  $520.94B$520,935,898,766          $11,112,570,230413,426 BTC   \n",
            "1   0.61%  $218.46B$218,459,106,923         $4,456,008,6032,453,189 ETH   \n",
            "2   0.05%    $82.92B$82,921,997,789  $17,383,627,71017,383,015,722 USDT   \n",
            "3   1.77%    $48.29B$48,289,390,866           $345,524,4981,115,211 BNB   \n",
            "4   0.02%    $29.54B$29,542,042,533    $2,441,060,7692,441,366,059 USDC   \n",
            "..    ...                       ...                                 ...   \n",
            "95    NaN                       NaN                                 NaN   \n",
            "96    NaN                       NaN                                 NaN   \n",
            "97    NaN                       NaN                                 NaN   \n",
            "98    NaN                       NaN                                 NaN   \n",
            "99    NaN                       NaN                                 NaN   \n",
            "\n",
            "     Circulating Supply  Last 7 Days  Unnamed: 11  \n",
            "0        19,380,618 BTC          NaN          NaN  \n",
            "1       120,269,409 ETH          NaN          NaN  \n",
            "2   82,919,078,535 USDT          NaN          NaN  \n",
            "3       155,858,240 BNB          NaN          NaN  \n",
            "4   29,545,737,192 USDC          NaN          NaN  \n",
            "..                  ...          ...          ...  \n",
            "95                  NaN          NaN          NaN  \n",
            "96                  NaN          NaN          NaN  \n",
            "97                  NaN          NaN          NaN  \n",
            "98                  NaN          NaN          NaN  \n",
            "99                  NaN          NaN          NaN  \n",
            "\n",
            "[100 rows x 12 columns]]\n"
          ]
        }
      ]
    },
    {
      "cell_type": "markdown",
      "source": [
        "# 2. OBTENIENDO LOS DATOS (Precio Actual, Tendencia y Valor de Tendencia)"
      ],
      "metadata": {
        "id": "7VloRpqCz-Dh"
      }
    },
    {
      "cell_type": "code",
      "source": [
        "# Implementacion de la Funcion extraer_tendencia(), funcion que recupera precio actual del Bitcoin, el valor de la tendencia y el tipo de tendencia, si es alta o baja.\n",
        "s=BeautifulSoup(contenido, features='lxml')\n",
        "\n",
        "def extraer_tendencias():\n",
        "  global tendencia, precio_actual, valor_tendencia\n",
        "  monedas = s.find('p',{'class':'sc-4984dd93-0 kKpPOn'})\n",
        "  monedas = monedas.text.strip()\n",
        "  precio_sin_formato = s.find('div', {'class':'sc-cadad039-0 clgqXO'})\n",
        "  precio_sin_formato = precio_sin_formato.text.strip()\n",
        "  precio_sin_formato = precio_sin_formato.replace('$','')\n",
        "  precio_sin_formato = precio_sin_formato.replace(',','')\n",
        "  precio_actual = float(precio_sin_formato)\n",
        "\n",
        "  valor_tendencia = s.find('span', {'class':'sc-97d6d2ca-0 bQjSqS'})\n",
        "  valor_tendencia = valor_tendencia.text.strip()\n",
        "  valor_tendencia = float(valor_tendencia.replace('%',''))\n",
        "  tendencias = s.find('span', {'class': ['icon-Caret-down','icon-Caret-up']})\n",
        "\n",
        "  if ('icon-Caret-down') in tendencias['class']:\n",
        "    tendencia = 'baja'\n",
        "  if ('icon-Caret-up') in tendencias['class']:\n",
        "    tendencia = 'alta'\n",
        "\n",
        "  print(f'Tendecia: {tendencia} Valor Tendencia: {valor_tendencia}')\n",
        "  print(f'Precio Actual: {precio_actual}')\n",
        "\n",
        "extraer_tendencias()\n"
      ],
      "metadata": {
        "colab": {
          "base_uri": "https://localhost:8080/"
        },
        "id": "lEpXiSH4Tve_",
        "outputId": "9879643d-c3f7-4397-b5d3-9be2ba303fe2"
      },
      "execution_count": 6,
      "outputs": [
        {
          "output_type": "stream",
          "name": "stdout",
          "text": [
            "Tendecia: baja Valor Tendencia: 0.16\n",
            "Precio Actual: 26884.68\n"
          ]
        }
      ]
    },
    {
      "cell_type": "markdown",
      "source": [
        "# 2. OBTENIENDO LOS DATOS HISTORICOS (Ultimos 7 dias con intervalo de 5 minutos)\n"
      ],
      "metadata": {
        "id": "csd-8uzJf7Dw"
      }
    },
    {
      "cell_type": "code",
      "source": [
        "# Implementando yfinance para tener el historico\n",
        "# Definir la funcion importar_base_bitcoin(), funcion que extrae el historico del Bitcoin de los ultimos 7 dias\n",
        "def importar_base_bitcoin():\n",
        "  global df_bitcoin\n",
        "  ticker = 'BTC-USD'\n",
        "  periodo = '7d'\n",
        "  intervalo = '5m'\n",
        "  df_bitcoin = yf.download(ticker, period=periodo, interval=intervalo)\n",
        "  print(df_bitcoin)\n",
        "\n",
        "importar_base_bitcoin()"
      ],
      "metadata": {
        "colab": {
          "base_uri": "https://localhost:8080/"
        },
        "id": "lJOjmUuFbpfh",
        "outputId": "c60ecbe6-2e1e-4bd1-a6af-e94726c50136"
      },
      "execution_count": 7,
      "outputs": [
        {
          "output_type": "stream",
          "name": "stdout",
          "text": [
            "\r[*********************100%***********************]  1 of 1 completed\n",
            "                                   Open          High           Low  \\\n",
            "Datetime                                                              \n",
            "2023-05-16 00:00:00+00:00  27171.513672  27180.341797  27171.226562   \n",
            "2023-05-16 00:05:00+00:00  27170.492188  27202.392578  27170.492188   \n",
            "2023-05-16 00:10:00+00:00  27221.753906  27222.830078  27208.285156   \n",
            "2023-05-16 00:15:00+00:00  27221.365234  27270.158203  27221.365234   \n",
            "2023-05-16 00:20:00+00:00  27264.189453  27287.683594  27264.189453   \n",
            "...                                 ...           ...           ...   \n",
            "2023-05-22 15:20:00+00:00  26829.132812  26857.501953  26829.132812   \n",
            "2023-05-22 15:25:00+00:00  26872.791016  26879.097656  26852.402344   \n",
            "2023-05-22 15:30:00+00:00  26853.484375  26883.570312  26853.484375   \n",
            "2023-05-22 15:35:00+00:00  26882.001953  26885.160156  26877.873047   \n",
            "2023-05-22 15:40:00+00:00  26876.046875  26895.382812  26874.304688   \n",
            "\n",
            "                                  Close     Adj Close    Volume  \n",
            "Datetime                                                         \n",
            "2023-05-16 00:00:00+00:00  27171.226562  27171.226562         0  \n",
            "2023-05-16 00:05:00+00:00  27202.392578  27202.392578  11909120  \n",
            "2023-05-16 00:10:00+00:00  27222.830078  27222.830078  25136128  \n",
            "2023-05-16 00:15:00+00:00  27270.158203  27270.158203         0  \n",
            "2023-05-16 00:20:00+00:00  27287.683594  27287.683594         0  \n",
            "...                                 ...           ...       ...  \n",
            "2023-05-22 15:20:00+00:00  26857.501953  26857.501953  21366784  \n",
            "2023-05-22 15:25:00+00:00  26852.402344  26852.402344  32795648  \n",
            "2023-05-22 15:30:00+00:00  26883.570312  26883.570312  30787584  \n",
            "2023-05-22 15:35:00+00:00  26877.873047  26877.873047  16828416  \n",
            "2023-05-22 15:40:00+00:00  26895.382812  26895.382812  87762944  \n",
            "\n",
            "[1917 rows x 6 columns]\n"
          ]
        }
      ]
    },
    {
      "cell_type": "code",
      "source": [
        "# Definicion de funciones\n",
        "def importar_base_bitcoin():\n",
        "  \"\"\" Funcion que extrae el historico de precios de los ultimos 7 dias en intervalos de 5 minutos y se guarda en el dataframe df_bitcoin \"\"\"\n",
        "  global df_bitcoin, precio_actual, tendencia, media_bitcoin,  algoritmo_decision\n",
        "\n",
        "def extraer_tendencias():\n",
        "  \"\"\" Funcion que extrae el precio actual del bitcoin y su variacion en la ultima hora. El precio se convierte a float y se guarda en precio_actual. En tendencia se guarda el valor baja si es negativa o alta si es positiva \"\"\"\n",
        "  global df_bitcoin, precio_actual, tendencia, media_bitcoin,  algoritmo_decision"
      ],
      "metadata": {
        "id": "qe3orVikIp16"
      },
      "execution_count": null,
      "outputs": []
    },
    {
      "cell_type": "markdown",
      "source": [
        "# 3. LIMPIEZA DE DATOS"
      ],
      "metadata": {
        "id": "QDJM0o7D88y3"
      }
    },
    {
      "cell_type": "code",
      "source": [
        "# Implementar funcion limpieza_datos(), crea una copia df_bitcoin_limpio.\n",
        "# Datetime: Indice del dataframe y contiene la fecha y hora del intervalo, no puede estar duplicado (Elimina los duplicados)\n",
        "# Open: precio del Bitcoin al inicio del intervalo\n",
        "# High: precio mas alto del Bitcoin durante el intervalo\n",
        "# Low: precio mas bajo del Bitcoin durante el intervalo\n",
        "# Close: precio del Bitcoin al final del intervalo (Trata los valores nulos)\n",
        "# Volume: total de transacciones hechas durante el intervalo (Elimina los registros que no tengan Volume > 0)\n",
        "\n",
        "# Elimina los outliers (atipicos) en el precio del Bitcoin, columna Close, utiliza un grafico de boxplot\n",
        "# Filtra unicamente los registros cuyo precio (Close) estan entre el 1er y el 3er cuartil del boxplot\n",
        "# Calcula el precio promedio (Close) de esta seleccion y guardala en media_bitcoin\n",
        "\n",
        "def limpieza_datos():\n",
        "  global df_bitcoin, df_bitcoin_limpio, media_bitcoin\n",
        "  #df_bitcoin_limpio = df_bitcoin[['Close', 'Volume']]\n",
        "  df_bitcoin_limpio = df_bitcoin.copy()\n",
        "\n",
        "  #print(df_bitcoin_limpio)\n",
        "  duplicados = df_bitcoin_limpio.index.duplicated()\n",
        "  df_bitcoin_limpio = df_bitcoin_limpio[~duplicados]\n",
        "  df_bitcoin_limpio = df_bitcoin_limpio[df_bitcoin_limpio['Volume'] > 0]\n",
        "  df_bitcoin_limpio = df_bitcoin_limpio[df_bitcoin_limpio['Close'] != 0]\n",
        "  print(df_bitcoin_limpio)\n",
        "  #print(len(duplicados))\n",
        "  print(df_bitcoin_limpio)\n",
        "  #print(len(df_bitcoin_limpio))\n",
        "\n",
        "limpieza_datos()\n"
      ],
      "metadata": {
        "colab": {
          "base_uri": "https://localhost:8080/"
        },
        "id": "bchWTPbB9Cyg",
        "outputId": "c9050bf9-33e0-4d61-e64a-ee938971e836"
      },
      "execution_count": 8,
      "outputs": [
        {
          "output_type": "stream",
          "name": "stdout",
          "text": [
            "                                   Open          High           Low  \\\n",
            "Datetime                                                              \n",
            "2023-05-16 00:05:00+00:00  27170.492188  27202.392578  27170.492188   \n",
            "2023-05-16 00:10:00+00:00  27221.753906  27222.830078  27208.285156   \n",
            "2023-05-16 00:50:00+00:00  27205.384766  27224.789062  27144.626953   \n",
            "2023-05-16 00:55:00+00:00  27215.669922  27215.669922  27198.185547   \n",
            "2023-05-16 01:05:00+00:00  27238.148438  27252.714844  27232.652344   \n",
            "...                                 ...           ...           ...   \n",
            "2023-05-22 15:20:00+00:00  26829.132812  26857.501953  26829.132812   \n",
            "2023-05-22 15:25:00+00:00  26872.791016  26879.097656  26852.402344   \n",
            "2023-05-22 15:30:00+00:00  26853.484375  26883.570312  26853.484375   \n",
            "2023-05-22 15:35:00+00:00  26882.001953  26885.160156  26877.873047   \n",
            "2023-05-22 15:40:00+00:00  26876.046875  26895.382812  26874.304688   \n",
            "\n",
            "                                  Close     Adj Close    Volume  \n",
            "Datetime                                                         \n",
            "2023-05-16 00:05:00+00:00  27202.392578  27202.392578  11909120  \n",
            "2023-05-16 00:10:00+00:00  27222.830078  27222.830078  25136128  \n",
            "2023-05-16 00:50:00+00:00  27224.789062  27224.789062  10071040  \n",
            "2023-05-16 00:55:00+00:00  27210.404297  27210.404297  40616960  \n",
            "2023-05-16 01:05:00+00:00  27232.652344  27232.652344  11589632  \n",
            "...                                 ...           ...       ...  \n",
            "2023-05-22 15:20:00+00:00  26857.501953  26857.501953  21366784  \n",
            "2023-05-22 15:25:00+00:00  26852.402344  26852.402344  32795648  \n",
            "2023-05-22 15:30:00+00:00  26883.570312  26883.570312  30787584  \n",
            "2023-05-22 15:35:00+00:00  26877.873047  26877.873047  16828416  \n",
            "2023-05-22 15:40:00+00:00  26895.382812  26895.382812  87762944  \n",
            "\n",
            "[963 rows x 6 columns]\n",
            "                                   Open          High           Low  \\\n",
            "Datetime                                                              \n",
            "2023-05-16 00:05:00+00:00  27170.492188  27202.392578  27170.492188   \n",
            "2023-05-16 00:10:00+00:00  27221.753906  27222.830078  27208.285156   \n",
            "2023-05-16 00:50:00+00:00  27205.384766  27224.789062  27144.626953   \n",
            "2023-05-16 00:55:00+00:00  27215.669922  27215.669922  27198.185547   \n",
            "2023-05-16 01:05:00+00:00  27238.148438  27252.714844  27232.652344   \n",
            "...                                 ...           ...           ...   \n",
            "2023-05-22 15:20:00+00:00  26829.132812  26857.501953  26829.132812   \n",
            "2023-05-22 15:25:00+00:00  26872.791016  26879.097656  26852.402344   \n",
            "2023-05-22 15:30:00+00:00  26853.484375  26883.570312  26853.484375   \n",
            "2023-05-22 15:35:00+00:00  26882.001953  26885.160156  26877.873047   \n",
            "2023-05-22 15:40:00+00:00  26876.046875  26895.382812  26874.304688   \n",
            "\n",
            "                                  Close     Adj Close    Volume  \n",
            "Datetime                                                         \n",
            "2023-05-16 00:05:00+00:00  27202.392578  27202.392578  11909120  \n",
            "2023-05-16 00:10:00+00:00  27222.830078  27222.830078  25136128  \n",
            "2023-05-16 00:50:00+00:00  27224.789062  27224.789062  10071040  \n",
            "2023-05-16 00:55:00+00:00  27210.404297  27210.404297  40616960  \n",
            "2023-05-16 01:05:00+00:00  27232.652344  27232.652344  11589632  \n",
            "...                                 ...           ...       ...  \n",
            "2023-05-22 15:20:00+00:00  26857.501953  26857.501953  21366784  \n",
            "2023-05-22 15:25:00+00:00  26852.402344  26852.402344  32795648  \n",
            "2023-05-22 15:30:00+00:00  26883.570312  26883.570312  30787584  \n",
            "2023-05-22 15:35:00+00:00  26877.873047  26877.873047  16828416  \n",
            "2023-05-22 15:40:00+00:00  26895.382812  26895.382812  87762944  \n",
            "\n",
            "[963 rows x 6 columns]\n"
          ]
        }
      ]
    },
    {
      "cell_type": "markdown",
      "source": [
        "# GRAFICO BOXPLOT PARA ELIMINAR OUTLIERS"
      ],
      "metadata": {
        "id": "sDKU_w_Seg-c"
      }
    },
    {
      "cell_type": "code",
      "source": [
        "# Generar grafico boxplot para eliminar los valores atipicos (outliers) de la columna close\n",
        "\n",
        "def visualizar_outliers():\n",
        "  df = df_bitcoin_limpio\n",
        "  \n",
        "  \n",
        "  plt.boxplot(df['Close'])\n",
        "  plt.show()\n",
        "\"\"\"\n",
        "  sns.set(style=\"whitegrid\", rc={\"figure.figsize\":(12,6)})\n",
        "\n",
        "  cuartiles = [0, 0.25, 0.5, 0.75, 1]\n",
        "\n",
        "  valores = df['Close'].quantile(cuartiles)\n",
        "\n",
        "  colores = ['#4c72b0', '#55a868', '#c44e52', '#8172b2']\n",
        "\n",
        "  sns.boxplot(y='Close', data=df, orient='v', palette=colores, whis=2, width=0.25)\n",
        "\n",
        "  plt.axhline(y=valores[0], linestyle='--', color='#FFC0CB')\n",
        "  plt.axhline(y=valores[1], linestyle='--', color='#FFC0CB')\n",
        "  plt.axhline(y=df['Close'].mean(), linestyle='--', color='#FFC0CB')\n",
        "\n",
        "  plt.text(-0.2, valores[0], f'Mínimo: {valores[0]:.0f}', fontsize=10, ha='center', va='bottom', color='#4682B4')\n",
        "  plt.text(-0.2, valores[0.25], f'Q1: {valores[0.25]:.0f}', fontsize=10, ha='center', va='top', color='#1f77b4')\n",
        "  plt.text(-0.2, valores[0.75], f'Q3: {valores[0.75]:.0f}', fontsize=10, ha='center', va='bottom', color='#1f77b4')\n",
        "  plt.text(-0.2, valores[1], f'Máximo: {valores[1]:.0f}', fontsize=10, ha='center', va='bottom', color='#4682B4')\n",
        "  plt.text(-0.2, df['Close'].mean(), f'Media: {df[\"Close\"].mean():.0f}', fontsize=10, ha='center', va='top', color='#1f77b4')\n",
        "\n",
        "  mediana = np.median(df['Close'])\n",
        "  plt.text(-0.2, mediana, f'Mediana: {mediana:.0f}', fontsize=10, ha='center', va='bottom', color='black')\n",
        "\n",
        "  plt.ylim(valores[0]-0.1*(valores[1]-valores[0]), valores[1]+0.1*(valores[1]-valores[0]))\n",
        "\n",
        "  plt.title('Distribución de precios de Bitcoin en dólares', fontsize=16)\n",
        "\n",
        "  plt.show()\"\"\"\n",
        "\n",
        "visualizar_outliers()"
      ],
      "metadata": {
        "colab": {
          "base_uri": "https://localhost:8080/",
          "height": 430
        },
        "id": "teuT4YyNe2Mr",
        "outputId": "55da851b-cc72-4277-af87-4c6791664d9f"
      },
      "execution_count": 9,
      "outputs": [
        {
          "output_type": "display_data",
          "data": {
            "text/plain": [
              "<Figure size 640x480 with 1 Axes>"
            ],
            "image/png": "[encoded data removed]"
          },
          "metadata": {}
        }
      ]
    },
    {
      "cell_type": "code",
      "source": [
        "!python -V\n",
        "print('------')\n",
        "!pip show Pandas | grep 'Name\\|Version'\n",
        "print('------')\n",
        "!pip show Numpy | grep 'Name\\|Version'\n",
        "print('------')\n",
        "!pip show Matplotlib | grep 'Name\\|Version'"
      ],
      "metadata": {
        "id": "c7oYswpAG_Tr"
      },
      "execution_count": null,
      "outputs": []
    }
  ]
}